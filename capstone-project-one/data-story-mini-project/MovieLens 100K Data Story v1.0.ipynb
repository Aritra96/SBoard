{
 "cells": [
  {
   "cell_type": "markdown",
   "metadata": {},
   "source": [
    "### Data Story with MovieLens 100K\n",
    "\n",
    "#### Author: Aritra Chattaraj\n",
    "\n",
    "#### Mentor: Sumit Dutta\n",
    "\n",
    "#### Capstone Project One"
   ]
  },
  {
   "cell_type": "markdown",
   "metadata": {},
   "source": [
    "#### Summary\n",
    "\n",
    "Lorem Ipsum"
   ]
  },
  {
   "cell_type": "markdown",
   "metadata": {},
   "source": [
    "#### Table of Contents\n",
    "\n",
    "1.[Introduction](#intro)\n",
    "\n",
    "2.[Data Reading & Viewing](#datareading)\n",
    "\n",
    "3.[Data Cleaning](#datacleaning)\n",
    "\n",
    "4.[Missing Values & Outliers](#missingvalues)\n",
    "\n",
    "5.[Exploratory Data Analysis](#eda)\n",
    "\n",
    "6.[Insights & Correlations](#insights)\n",
    "\n",
    "7.[Hypotheses](#hypotheses)\n",
    "\n",
    "8.[Data Story](#datastory)\n",
    "\n",
    "9.[Conclusion](#conclusion)"
   ]
  },
  {
   "cell_type": "markdown",
   "metadata": {},
   "source": [
    "#### 1. Introduction <a id = 'intro'></a>\n",
    "\n",
    "Lorem Ipsum about data set, etc."
   ]
  },
  {
   "cell_type": "markdown",
   "metadata": {},
   "source": [
    "#### 2. Data Reading & Viewing <a id = 'datareading'></a>"
   ]
  },
  {
   "cell_type": "code",
   "execution_count": 1,
   "metadata": {},
   "outputs": [],
   "source": [
    "import numpy as np\n",
    "import pandas as pd\n",
    "import matplotlib.pyplot as plt\n",
    "import seaborn as sns"
   ]
  },
  {
   "cell_type": "code",
   "execution_count": null,
   "metadata": {},
   "outputs": [],
   "source": []
  }
 ],
 "metadata": {
  "kernelspec": {
   "display_name": "Python 3",
   "language": "python",
   "name": "python3"
  },
  "language_info": {
   "codemirror_mode": {
    "name": "ipython",
    "version": 3
   },
   "file_extension": ".py",
   "mimetype": "text/x-python",
   "name": "python",
   "nbconvert_exporter": "python",
   "pygments_lexer": "ipython3",
   "version": "3.7.1"
  }
 },
 "nbformat": 4,
 "nbformat_minor": 2
}
